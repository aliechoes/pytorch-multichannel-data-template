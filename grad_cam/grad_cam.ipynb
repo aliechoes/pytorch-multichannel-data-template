{
 "cells": [
  {
   "cell_type": "code",
   "execution_count": 1,
   "metadata": {},
   "outputs": [],
   "source": [
    "from __future__ import print_function, division\n",
    "import os\n",
    "import torch\n",
    "import pandas as pd\n",
    "from skimage import io, transform\n",
    "import numpy as np\n",
    "import matplotlib.pyplot as plt\n",
    "from torch.utils.data import Dataset, DataLoader\n",
    "from torchvision import transforms, utils\n",
    "import glob\n",
    "# Ignore warnings\n",
    "import warnings\n",
    "warnings.filterwarnings(\"ignore\")\n",
    "import sklearn\n",
    "from sklearn.model_selection import train_test_split\n",
    "from sklearn.utils import shuffle\n",
    "\n",
    "plt.ion()   # interactive mode\n",
    "from skimage.transform import   rescale, resize \n",
    "from imageio import imread\n"
   ]
  },
  {
   "cell_type": "code",
   "execution_count": 2,
   "metadata": {},
   "outputs": [],
   "source": [
    "configs = {\n",
    "\n",
    "\t\"model\": {\n",
    "\t\t\"network\": \"squeezenet1_0\",\n",
    "\t\t\"device\": \"cuda\",\n",
    "\t\t\"checkpoint_path\": \"/pstore/home/shetabs1/runs/synapse_classification_test/2020-07-24 14:37:39.117541_squeezenet1_0_sgd_0.001/models/best_model.pth\",\n",
    "\t\t\"args\": {}\n",
    "\t},\n",
    "\t\"loss\": {\n",
    "\t\t\"loss_function\": \"CrossEntropyLoss\", \n",
    "\t\t\"weights\": None\n",
    "\t},\n",
    "\t\"optimizer\": {\n",
    "\t\t\"optimization_method\": \"adam\",\n",
    "\t\t\"optimization_parameters\": {\n",
    "\t\t\t\"lr\": 1e-3,\n",
    "\t\t\t\"weight_decay\": 0 \n",
    "\t\t}\n",
    "\t},\n",
    "\t\"training\": {\n",
    "\t\t\"num_epochs\": 100,\n",
    "\t\t\"device\": \"cuda\",\n",
    "\t\t\"metrics_of_interest\": [\"accuracy\", \"f1_macro\", \"f1_weighted\", \"cross_entropy\"],\n",
    "\t\t\"call_back\": {\n",
    "\t\t\t\"patience\": 90,\n",
    "\t\t\t\"saving_period\": 100,\n",
    "\t\t\t\"criteria\": \"f1_macro\"\n",
    "\t\t},\n",
    "\t\t\"verbosity\": 1,\n",
    "\t\t\"lr_scheduler\": {\n",
    "\t\t\t\"type\": \"StepLR\",\n",
    "\t\t\t\"args\": {\n",
    "\t\t\t\t\"step_size\": 60,\n",
    "\t\t\t\t\"gamma\": 0.1\n",
    "\t\t\t}\n",
    "\t\t}\n",
    "\n",
    "\t},\n",
    "\t\"data_loader\": {\n",
    "\t\t\"data_dir\":  [ \"/pstore/data/DS4/synapse_formation/Experiment_12_labeled_data_merged\"],\n",
    "\t\t\"batch_size\": 10,\n",
    "\t\t\"dynamic_range\": {\n",
    "\t\t\t\t\"lower_bound\":0.01,\n",
    "\t\t\t\t\"upper_bound\":0.9999\n",
    "\t\t},\n",
    "\t\t\"data_map\": [\"map_zero_one\",\"normalize\"],\n",
    "\t\t\"validation_split\": 0.25,\n",
    "\t\t\"test_data_dir\": [],\n",
    "\t\t\"augmentation\": [ \"random_crop\", \"random_flip\", \"affine_transformation\" , \"random_gaussian_noise\", \"random_erasing\"],\n",
    "\t\t\"scaling_factor\": 4095,\n",
    "\t\t\"num_workers\": 24\n",
    "\n",
    "\t},\n",
    "\t\"tensorboard\": {\n",
    "\t\t\"tensorboard_path\": \"/pstore/home/shetabs1/runs/synapse\",\n",
    "\t\t\"add_metrics\": True,\n",
    "\t\t\"add_images\": True,\n",
    "\t\t\"add_confusion_matrix\": True,\n",
    "\t\t\"add_graph\": False,\n",
    "\t\t\"add_pr_curve\": False,\n",
    "\t\t\"add_hparams\": False,\n",
    "\t\t\"add_embedding\": False\n",
    "\t}\n",
    "}"
   ]
  },
  {
   "cell_type": "code",
   "execution_count": 11,
   "metadata": {},
   "outputs": [
    {
     "ename": "ModuleNotFoundError",
     "evalue": "No module named '__main__.utils'; '__main__' is not a package",
     "output_type": "error",
     "traceback": [
      "\u001b[0;31m---------------------------------------------------------------------------\u001b[0m",
      "\u001b[0;31mModuleNotFoundError\u001b[0m                       Traceback (most recent call last)",
      "\u001b[0;32m<ipython-input-11-36290f6c7aa4>\u001b[0m in \u001b[0;36m<module>\u001b[0;34m()\u001b[0m\n\u001b[0;32m----> 1\u001b[0;31m \u001b[0;32mfrom\u001b[0m \u001b[0;34m.\u001b[0m\u001b[0mutils\u001b[0m \u001b[0;32mimport\u001b[0m \u001b[0;34m*\u001b[0m\u001b[0;34m\u001b[0m\u001b[0m\n\u001b[0m\u001b[1;32m      2\u001b[0m \u001b[0;32mimport\u001b[0m \u001b[0mlogging\u001b[0m\u001b[0;34m\u001b[0m\u001b[0m\n",
      "\u001b[0;31mModuleNotFoundError\u001b[0m: No module named '__main__.utils'; '__main__' is not a package"
     ]
    }
   ],
   "source": [
    "from .utils import *\n",
    "import logging"
   ]
  },
  {
   "cell_type": "code",
   "execution_count": 4,
   "metadata": {},
   "outputs": [],
   "source": [
    "    device = configs[\"training\"][\"device\"]\n",
    "\n",
    "    # seperating the configs part\n",
    "    model_configs = configs[\"model\"]\n",
    "    loss_configs = configs[\"loss\"]\n",
    "    optimizer_configs = configs[\"optimizer\"]\n",
    "    training_configs = configs[\"training\"]\n",
    "    data_loader_configs = configs[\"data_loader\"]\n",
    "    tensorboard_configs = configs[\"tensorboard\"]"
   ]
  },
  {
   "cell_type": "code",
   "execution_count": 5,
   "metadata": {},
   "outputs": [],
   "source": [
    "    # check whether there is a model to continue for transfer learning\n",
    "    checkpoint = get_checkpoint(model_configs[\"checkpoint_path\"])\n",
    "\n",
    "    # creating a unique name for the model\n",
    "    run_name = create_name( model_configs[\"network\"], \n",
    "                            optimizer_configs[\"optimization_method\"] , \n",
    "                            optimizer_configs[\"optimization_parameters\"][\"lr\"] )\n",
    "                         \n",
    "    # creating the tensorboard\n",
    "    #writer = TensorBoardSummaryWriter(tensorboard_configs, run_name  )\n",
    "    \n",
    "    \n",
    "    # creating the folder for the models to be saved per epoch\n",
    "    #model_folder = os.path.join(writer.tensorboard_path, run_name, \"models/\")\n",
    "    #make_folders(model_folder)\n",
    "\n",
    "    "
   ]
  },
  {
   "cell_type": "code",
   "execution_count": 6,
   "metadata": {},
   "outputs": [],
   "source": [
    "data_loader = DataLoaderGenerator(data_loader_configs) "
   ]
  },
  {
   "cell_type": "code",
   "execution_count": null,
   "metadata": {},
   "outputs": [],
   "source": []
  },
  {
   "cell_type": "code",
   "execution_count": 7,
   "metadata": {},
   "outputs": [],
   "source": [
    "data_loader.data_frame_creator()"
   ]
  },
  {
   "cell_type": "code",
   "execution_count": 8,
   "metadata": {},
   "outputs": [
    {
     "data": {
      "text/plain": [
       "['Ch1', 'Ch2', 'Ch3', 'Ch4', 'Ch6', 'Ch7']"
      ]
     },
     "execution_count": 8,
     "metadata": {},
     "output_type": "execute_result"
    }
   ],
   "source": [
    "data_loader.existing_channels"
   ]
  },
  {
   "cell_type": "code",
   "execution_count": 9,
   "metadata": {},
   "outputs": [],
   "source": [
    "    # number of exsting channels and output classes\n",
    "    number_of_channels = len(data_loader.existing_channels)\n",
    "    number_of_classes = len(data_loader.classes)\n",
    "\n",
    "    # initialize the model\n",
    "    model = get_model(  model_configs,\n",
    "                        device,\n",
    "                        checkpoint,\n",
    "                        number_of_channels ,\n",
    "                        number_of_classes)"
   ]
  },
  {
   "cell_type": "code",
   "execution_count": null,
   "metadata": {},
   "outputs": [],
   "source": []
  },
  {
   "cell_type": "code",
   "execution_count": 10,
   "metadata": {},
   "outputs": [],
   "source": [
    "data_loader.data_loader(model.image_size, checkpoint)"
   ]
  },
  {
   "cell_type": "code",
   "execution_count": 11,
   "metadata": {},
   "outputs": [],
   "source": [
    "j = 500\n"
   ]
  },
  {
   "cell_type": "code",
   "execution_count": 50,
   "metadata": {},
   "outputs": [],
   "source": [
    "\n",
    "x = data_loader.train_dataset.__getitem__(j)[\"image\"].reshape(1,6,180,180)"
   ]
  },
  {
   "cell_type": "code",
   "execution_count": 51,
   "metadata": {},
   "outputs": [
    {
     "data": {
      "text/plain": [
       "tensor([0])"
      ]
     },
     "execution_count": 51,
     "metadata": {},
     "output_type": "execute_result"
    }
   ],
   "source": [
    "data_loader.train_dataset.__getitem__(j)[\"label\"]"
   ]
  },
  {
   "cell_type": "code",
   "execution_count": 52,
   "metadata": {},
   "outputs": [
    {
     "data": {
      "text/plain": [
       "['Doublet_with_interaction',\n",
       " 'Doublet_with_no_interaction',\n",
       " 'Multiplet',\n",
       " 'SingleBcell',\n",
       " 'SingleTcell',\n",
       " 'SingleTcell_Functional']"
      ]
     },
     "execution_count": 52,
     "metadata": {},
     "output_type": "execute_result"
    }
   ],
   "source": [
    "data_loader.classes"
   ]
  },
  {
   "cell_type": "code",
   "execution_count": 62,
   "metadata": {},
   "outputs": [
    {
     "data": {
      "text/plain": [
       "<matplotlib.image.AxesImage at 0x2aab99ead9e8>"
      ]
     },
     "execution_count": 62,
     "metadata": {},
     "output_type": "execute_result"
    },
    {
     "data": {
      "image/png": "[encoded data removed]",
      "text/plain": [
       "<Figure size 432x288 with 1 Axes>"
      ]
     },
     "metadata": {},
     "output_type": "display_data"
    }
   ],
   "source": [
    "%matplotlib inline\n",
    "plt.imshow(x.detach().cpu().numpy()[0,3,:,:])"
   ]
  },
  {
   "cell_type": "code",
   "execution_count": null,
   "metadata": {},
   "outputs": [],
   "source": []
  },
  {
   "cell_type": "code",
   "execution_count": 63,
   "metadata": {},
   "outputs": [
    {
     "data": {
      "text/plain": [
       "tensor(3)"
      ]
     },
     "execution_count": 63,
     "metadata": {},
     "output_type": "execute_result"
    }
   ],
   "source": [
    "model(x.reshape(1,6,180,180).float()).argmax()"
   ]
  },
  {
   "cell_type": "code",
   "execution_count": 64,
   "metadata": {},
   "outputs": [],
   "source": [
    "_, predicted = torch.max(model(x.reshape(1,6,180,180).float()), 1) "
   ]
  },
  {
   "cell_type": "code",
   "execution_count": 65,
   "metadata": {},
   "outputs": [],
   "source": [
    "from grad_cam.grad_cam import (\n",
    "    BackPropagation,\n",
    "    Deconvnet,\n",
    "    GradCAM,\n",
    "    GuidedBackPropagation,\n",
    "    occlusion_sensitivity,\n",
    ")"
   ]
  },
  {
   "cell_type": "code",
   "execution_count": 66,
   "metadata": {},
   "outputs": [],
   "source": [
    "i = 0"
   ]
  },
  {
   "cell_type": "code",
   "execution_count": 67,
   "metadata": {},
   "outputs": [],
   "source": [
    "bp = BackPropagation(model=model)"
   ]
  },
  {
   "cell_type": "code",
   "execution_count": 68,
   "metadata": {},
   "outputs": [],
   "source": [
    "probs, ids = bp.forward(x.float())  # sorted"
   ]
  },
  {
   "cell_type": "code",
   "execution_count": 69,
   "metadata": {},
   "outputs": [
    {
     "data": {
      "text/plain": [
       "tensor([[3, 0, 1, 5, 2, 4]])"
      ]
     },
     "execution_count": 69,
     "metadata": {},
     "output_type": "execute_result"
    }
   ],
   "source": [
    "ids"
   ]
  },
  {
   "cell_type": "code",
   "execution_count": null,
   "metadata": {},
   "outputs": [],
   "source": []
  },
  {
   "cell_type": "code",
   "execution_count": 70,
   "metadata": {},
   "outputs": [],
   "source": [
    "bp.backward(ids=ids[:, [i]])"
   ]
  },
  {
   "cell_type": "code",
   "execution_count": null,
   "metadata": {},
   "outputs": [],
   "source": []
  },
  {
   "cell_type": "code",
   "execution_count": 71,
   "metadata": {},
   "outputs": [],
   "source": [
    "gradients = bp.generate()"
   ]
  },
  {
   "cell_type": "code",
   "execution_count": 72,
   "metadata": {},
   "outputs": [],
   "source": [
    "gcam = GradCAM(model=model)"
   ]
  },
  {
   "cell_type": "code",
   "execution_count": 73,
   "metadata": {},
   "outputs": [],
   "source": [
    "_ = gcam.forward(x.cpu().float())"
   ]
  },
  {
   "cell_type": "code",
   "execution_count": 74,
   "metadata": {},
   "outputs": [],
   "source": [
    "gcam.backward(ids=ids[:, [i]])"
   ]
  },
  {
   "cell_type": "code",
   "execution_count": 75,
   "metadata": {},
   "outputs": [],
   "source": [
    "regions = gcam.generate(target_layer=\"features\")"
   ]
  },
  {
   "cell_type": "code",
   "execution_count": 76,
   "metadata": {},
   "outputs": [
    {
     "data": {
      "text/plain": [
       "<matplotlib.image.AxesImage at 0x2aab9c0cf748>"
      ]
     },
     "execution_count": 76,
     "metadata": {},
     "output_type": "execute_result"
    },
    {
     "data": {
      "image/png": "[encoded data removed]",
      "text/plain": [
       "<Figure size 432x288 with 1 Axes>"
      ]
     },
     "metadata": {},
     "output_type": "display_data"
    }
   ],
   "source": [
    "plt.imshow(regions.cpu().numpy()[0,0,:,:])"
   ]
  },
  {
   "cell_type": "code",
   "execution_count": null,
   "metadata": {},
   "outputs": [],
   "source": []
  },
  {
   "cell_type": "code",
   "execution_count": null,
   "metadata": {},
   "outputs": [],
   "source": []
  },
  {
   "cell_type": "code",
   "execution_count": null,
   "metadata": {},
   "outputs": [],
   "source": []
  },
  {
   "cell_type": "code",
   "execution_count": null,
   "metadata": {},
   "outputs": [],
   "source": []
  },
  {
   "cell_type": "code",
   "execution_count": null,
   "metadata": {},
   "outputs": [],
   "source": []
  },
  {
   "cell_type": "code",
   "execution_count": null,
   "metadata": {},
   "outputs": [],
   "source": []
  },
  {
   "cell_type": "code",
   "execution_count": null,
   "metadata": {},
   "outputs": [],
   "source": []
  },
  {
   "cell_type": "code",
   "execution_count": null,
   "metadata": {},
   "outputs": [],
   "source": []
  },
  {
   "cell_type": "code",
   "execution_count": null,
   "metadata": {},
   "outputs": [],
   "source": []
  },
  {
   "cell_type": "code",
   "execution_count": null,
   "metadata": {},
   "outputs": [],
   "source": []
  }
 ],
 "metadata": {
  "kernelspec": {
   "display_name": "Python 3",
   "language": "python",
   "name": "python3"
  },
  "language_info": {
   "codemirror_mode": {
    "name": "ipython",
    "version": 3
   },
   "file_extension": ".py",
   "mimetype": "text/x-python",
   "name": "python",
   "nbconvert_exporter": "python",
   "pygments_lexer": "ipython3",
   "version": "3.6.5"
  }
 },
 "nbformat": 4,
 "nbformat_minor": 2
}
